{
 "cells": [
  {
   "cell_type": "code",
   "execution_count": 5,
   "id": "0987f513",
   "metadata": {},
   "outputs": [
    {
     "name": "stdout",
     "output_type": "stream",
     "text": [
      "{'translation': {'en': 'The likeness of those who disbelieve in their Lord: their works are like ashes, in a fierce wind, on a stormy day. They have no control over anything they have earned. That is the utmost misguidance.', 'ta': 'எவர்கள் தங்களுடைய இறைவனை நிராகரிக்கிறார்களோ, அவர்களுக்கு உதாரணமாவது அவர்களுடைய செயல்கள் சாம்பல் போன்றவை புயல் காற்று கடினமாக வீசம் நாளில் அச்சாம்பலைக் காற்று அடித்துக் கொண்டு போய்விட்டது. (அவ்வாறே) தாங்கள் சம்பாதித்த பொருள்களில் எதன் மீதும் அவர்களுக்கு அதிகாரம் இராது இதுவே வெகு தூரமான வழிகேடாகும்.'}}\n"
     ]
    }
   ],
   "source": [
    "from datasets import load_dataset\n",
    "\n",
    "# Load English–Tamil parallel dataset\n",
    "dataset = load_dataset(\"Helsinki-NLP/opus-100\", \"en-ta\")\n",
    "\n",
    "# Inspect example\n",
    "print(dataset[\"train\"][0])\n",
    "# -> {'translation': {'en': 'Hello!', 'ta': 'வணக்கம்!'}}\n",
    "\n",
    "# Save Tamil sentences to .ta file\n",
    "with open(\"tamil_sentences.ta\", \"w\", encoding=\"utf-8\") as f:\n",
    "    for ex in dataset[\"train\"]:\n",
    "        f.write(ex[\"translation\"][\"ta\"] + \"\\n\")"
   ]
  },
  {
   "cell_type": "code",
   "execution_count": 11,
   "id": "fe319bc3",
   "metadata": {},
   "outputs": [],
   "source": [
    "import re\n",
    "\n",
    "TAMIL_UNICODE_RANGE = r'\\u0B80-\\u0BFF'\n",
    "ALLOWED_SYMBOLS = r'\\.,()\\[\\]{}'\n",
    "\n",
    "# Regex to remove unwanted characters\n",
    "remove_non_tamil = re.compile(fr'[^{TAMIL_UNICODE_RANGE}{ALLOWED_SYMBOLS}\\s]')\n",
    "\n",
    "# Regex to remove empty or non-Tamil-only brackets\n",
    "remove_bad_brackets = re.compile(\n",
    "    fr'''\n",
    "    [\\(\\[\\{{]               # opening bracket\n",
    "    [^{TAMIL_UNICODE_RANGE}]*  # anything but Tamil\n",
    "    [\\)\\]\\}}]               # closing bracket\n",
    "    ''', re.VERBOSE\n",
    ")\n",
    "\n",
    "with open(\"tamil_sentences.ta\", \"r\", encoding=\"utf-8\") as infile:\n",
    "    lines = infile.readlines()\n",
    "\n",
    "cleaned_lines = []\n",
    "for line in lines:\n",
    "    # Remove unwanted non-Tamil characters (but keep allowed symbols)\n",
    "    cleaned_line = remove_non_tamil.sub('', line)\n",
    "\n",
    "    # Remove bad brackets like (), (,), {}, etc.\n",
    "    cleaned_line = remove_bad_brackets.sub('', cleaned_line)\n",
    "\n",
    "    cleaned_line = cleaned_line.strip()\n",
    "    if cleaned_line:\n",
    "        cleaned_lines.append(cleaned_line)\n",
    "\n",
    "with open(\"tamil_sentences.ta\", \"w\", encoding=\"utf-8\") as outfile:\n",
    "    for line in cleaned_lines:\n",
    "        outfile.write(line + \"\\n\")\n"
   ]
  },
  {
   "cell_type": "code",
   "execution_count": null,
   "id": "107f669e",
   "metadata": {},
   "outputs": [
    {
     "ename": "OSError",
     "evalue": "Could not find kaggle.json. Make sure it's located in C:\\Users\\user\\.kaggle. Or use the environment method. See setup instructions at https://github.com/Kaggle/kaggle-api/",
     "output_type": "error",
     "traceback": [
      "\u001b[1;31m---------------------------------------------------------------------------\u001b[0m",
      "\u001b[1;31mOSError\u001b[0m                                   Traceback (most recent call last)",
      "Cell \u001b[1;32mIn[22], line 6\u001b[0m\n\u001b[0;32m      3\u001b[0m \u001b[38;5;28;01mfrom\u001b[39;00m \u001b[38;5;21;01mkaggle\u001b[39;00m\u001b[38;5;21;01m.\u001b[39;00m\u001b[38;5;21;01mapi\u001b[39;00m\u001b[38;5;21;01m.\u001b[39;00m\u001b[38;5;21;01mkaggle_api_extended\u001b[39;00m \u001b[38;5;28;01mimport\u001b[39;00m KaggleApi\n\u001b[0;32m      5\u001b[0m api \u001b[38;5;241m=\u001b[39m KaggleApi()\n\u001b[1;32m----> 6\u001b[0m \u001b[43mapi\u001b[49m\u001b[38;5;241;43m.\u001b[39;49m\u001b[43mauthenticate\u001b[49m\u001b[43m(\u001b[49m\u001b[43m)\u001b[49m\n\u001b[0;32m      9\u001b[0m \u001b[38;5;66;03m# Dataset identifier in \"owner/dataset-name\" format\u001b[39;00m\n\u001b[0;32m     10\u001b[0m dataset \u001b[38;5;241m=\u001b[39m \u001b[38;5;124m\"\u001b[39m\u001b[38;5;124mvijayabhaskar96/tamil-news-classification-dataset-tamilmurasu\u001b[39m\u001b[38;5;124m\"\u001b[39m\n",
      "File \u001b[1;32mc:\\Users\\user\\AppData\\Local\\Programs\\Python\\Python312\\Lib\\site-packages\\kaggle\\api\\kaggle_api_extended.py:434\u001b[0m, in \u001b[0;36mKaggleApi.authenticate\u001b[1;34m(self)\u001b[0m\n\u001b[0;32m    432\u001b[0m     \u001b[38;5;28;01mreturn\u001b[39;00m\n\u001b[0;32m    433\u001b[0m   \u001b[38;5;28;01melse\u001b[39;00m:\n\u001b[1;32m--> 434\u001b[0m     \u001b[38;5;28;01mraise\u001b[39;00m \u001b[38;5;167;01mIOError\u001b[39;00m(\u001b[38;5;124m'\u001b[39m\u001b[38;5;124mCould not find \u001b[39m\u001b[38;5;132;01m{}\u001b[39;00m\u001b[38;5;124m. Make sure it\u001b[39m\u001b[38;5;130;01m\\'\u001b[39;00m\u001b[38;5;124ms located in\u001b[39m\u001b[38;5;124m'\u001b[39m\n\u001b[0;32m    435\u001b[0m                   \u001b[38;5;124m'\u001b[39m\u001b[38;5;124m \u001b[39m\u001b[38;5;132;01m{}\u001b[39;00m\u001b[38;5;124m. Or use the environment method. See setup\u001b[39m\u001b[38;5;124m'\u001b[39m\n\u001b[0;32m    436\u001b[0m                   \u001b[38;5;124m'\u001b[39m\u001b[38;5;124m instructions at\u001b[39m\u001b[38;5;124m'\u001b[39m\n\u001b[0;32m    437\u001b[0m                   \u001b[38;5;124m'\u001b[39m\u001b[38;5;124m https://github.com/Kaggle/kaggle-api/\u001b[39m\u001b[38;5;124m'\u001b[39m\u001b[38;5;241m.\u001b[39mformat(\n\u001b[0;32m    438\u001b[0m                       \u001b[38;5;28mself\u001b[39m\u001b[38;5;241m.\u001b[39mconfig_file, \u001b[38;5;28mself\u001b[39m\u001b[38;5;241m.\u001b[39mconfig_dir))\n\u001b[0;32m    440\u001b[0m \u001b[38;5;66;03m# Step 3: load into configuration!\u001b[39;00m\n\u001b[0;32m    441\u001b[0m \u001b[38;5;28mself\u001b[39m\u001b[38;5;241m.\u001b[39m_load_config(config_data)\n",
      "\u001b[1;31mOSError\u001b[0m: Could not find kaggle.json. Make sure it's located in C:\\Users\\user\\.kaggle. Or use the environment method. See setup instructions at https://github.com/Kaggle/kaggle-api/"
     ]
    }
   ],
   "source": [
    "import os\n",
    "from kaggle.api.kaggle_api_extended import KaggleApi\n",
    "\n",
    "api = KaggleApi()\n",
    "api.authenticate()\n",
    "\n",
    "\n",
    "# Dataset identifier in \"owner/dataset-name\" format\n",
    "dataset = \"vijayabhaskar96/tamil-news-classification-dataset-tamilmurasu\"\n",
    "\n",
    "# Download to current working directory\n",
    "cwd = os.getcwd()\n",
    "api.dataset_download_files(dataset, path=cwd, unzip=True)\n"
   ]
  },
  {
   "cell_type": "code",
   "execution_count": null,
   "id": "bcfe7f20",
   "metadata": {},
   "outputs": [],
   "source": [
    "import pandas as pd\n",
    "\n",
    "# Load your CSV file\n",
    "df = pd.read_csv(\"tamilmurasu_dataset.csv\")\n",
    "\n",
    "# Select only the last three columns by name\n",
    "columns_to_extract = [\"news_category\", \"news_title\", \"news_article\"]\n",
    "df_selected = df[columns_to_extract]\n",
    "\n",
    "# Save the combined text of these columns into a .ta file, line by line\n",
    "with open(\"output.ta\", \"w\", encoding=\"utf-8\") as f:\n",
    "    for _, row in df_selected.iterrows():\n",
    "        # Combine the three columns (you can customize the separator)\n",
    "        line = f\"{row['news_title']} | {row['news_article']} | {row['news_category']}\"\n",
    "        f.write(line + \"\\n\")"
   ]
  },
  {
   "cell_type": "code",
   "execution_count": null,
   "id": "c198333c",
   "metadata": {},
   "outputs": [],
   "source": [
    "from datasets import load_dataset\n",
    "\n",
    "# Load the Tamil Kavithai dataset\n",
    "ds = load_dataset(\"abishekmahi/tamil-kavithai\")\n",
    "\n",
    "with open(\"tamil_kavithai.ta\", \"w\", encoding=\"utf-8\") as f:\n",
    "    for example in ds[\"train\"]:\n",
    "        content = example.get(\"Content\")\n",
    "        if content is not None:\n",
    "            f.write(content + \"\\n\")"
   ]
  },
  {
   "cell_type": "code",
   "execution_count": 7,
   "id": "11b59390",
   "metadata": {},
   "outputs": [],
   "source": [
    "import os\n",
    "import glob\n",
    "import argparse\n",
    "from tokenizers import Tokenizer\n",
    "from tokenizers.trainers import WordPieceTrainer\n",
    "from tokenizers.models import WordPiece\n",
    "from tokenizers import normalizers\n",
    "from tokenizers.normalizers import Sequence, NFC, Lowercase\n",
    "from tokenizers.pre_tokenizers import Whitespace\n",
    "from tokenizers import decoders\n",
    "from tokenizers.processors import TemplateProcessing"
   ]
  },
  {
   "cell_type": "code",
   "execution_count": 8,
   "id": "2f34e192",
   "metadata": {},
   "outputs": [],
   "source": [
    "special_token_dict = {\"unknown_token\": \"[UNK]\",\n",
    "                      \"pad_token\": \"[PAD]\", \n",
    "                      \"start_token\": \"[BOS]\",\n",
    "                      \"end_token\": \"[EOS]\"}"
   ]
  },
  {
   "cell_type": "code",
   "execution_count": 9,
   "id": "6523af28",
   "metadata": {},
   "outputs": [],
   "source": [
    "def train_tokenizer(path_to_data_root):\n",
    "    \"\"\"\n",
    "    Train a WordPiece tokenizer specifically for Tamil text data.\n",
    "\n",
    "    Key settings:\n",
    "    - unknown_token: Used when the tokenizer encounters out-of-vocabulary words.\n",
    "    - pad_token: Used for padding Tamil sentences during batching.\n",
    "    - start_token: Prepended to Tamil input so the decoder knows where to start generation.\n",
    "    - end_token: Appended to the Tamil text to signal where decoding should stop.\n",
    "\n",
    "    Unicode Normalization:\n",
    "    Tamil letters can also have alternate Unicode representations (like combining forms).\n",
    "    NFC normalization ensures consistent representation using composed forms.\n",
    "    \"\"\"\n",
    "\n",
    "    # Define the tokenizer with WordPiece model and unknown token\n",
    "    tokenizer = Tokenizer(WordPiece(unk_token=special_token_dict[\"unknown_token\"]))\n",
    "\n",
    "    # Apply Unicode normalization and lowercase (optional for Tamil but kept for consistency)\n",
    "    tokenizer.normalizer = Sequence([NFC(), Lowercase()])\n",
    "\n",
    "    # Split text into tokens using whitespace\n",
    "    tokenizer.pre_tokenizer = Whitespace()\n",
    "\n",
    "    # Find all Tamil text files (.ta extension)\n",
    "    tamil_files = glob.glob(os.path.join(path_to_data_root, \"**/*.ta\"), recursive=True)\n",
    "\n",
    "    # Train a WordPiece tokenizer with vocab size and special tokens\n",
    "    trainer = WordPieceTrainer(\n",
    "        vocab_size=32000,\n",
    "        special_tokens=list(special_token_dict.values())\n",
    "    )\n",
    "\n",
    "    # Train tokenizer on Tamil files\n",
    "    tokenizer.train(tamil_files, trainer)\n",
    "\n",
    "    # Save the trained tokenizer model\n",
    "    os.makedirs(\"trained_tokenizer\", exist_ok=True)\n",
    "    tokenizer.save(\"trained_tokenizer/tamil_wp.json\")"
   ]
  },
  {
   "cell_type": "code",
   "execution_count": 12,
   "id": "276f488b",
   "metadata": {},
   "outputs": [],
   "source": [
    "path_to_data_root = \".\"\n",
    "train_tokenizer(path_to_data_root)"
   ]
  }
 ],
 "metadata": {
  "kernelspec": {
   "display_name": "Python 3",
   "language": "python",
   "name": "python3"
  },
  "language_info": {
   "codemirror_mode": {
    "name": "ipython",
    "version": 3
   },
   "file_extension": ".py",
   "mimetype": "text/x-python",
   "name": "python",
   "nbconvert_exporter": "python",
   "pygments_lexer": "ipython3",
   "version": "3.12.1"
  }
 },
 "nbformat": 4,
 "nbformat_minor": 5
}
